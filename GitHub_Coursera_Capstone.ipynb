{
  "nbformat": 4,
  "nbformat_minor": 0,
  "metadata": {
    "colab": {
      "name": "GitHub_Coursera_Capstone.ipynb",
      "provenance": [],
      "collapsed_sections": [],
      "toc_visible": true
    },
    "kernelspec": {
      "name": "python3",
      "display_name": "Python 3"
    }
  },
  "cells": [
    {
      "cell_type": "markdown",
      "metadata": {
        "id": "DhNj83frqA5d"
      },
      "source": [
        "This notebook will be mainly used for the capstone project in Applied Data Science Capstone Course in Coursera.\n"
      ]
    },
    {
      "cell_type": "code",
      "metadata": {
        "id": "vroFxsGuq56I"
      },
      "source": [
        "import pandas as pd"
      ],
      "execution_count": null,
      "outputs": []
    },
    {
      "cell_type": "code",
      "metadata": {
        "id": "Cgxbr4jlJXYD"
      },
      "source": [
        "import numpy as np"
      ],
      "execution_count": null,
      "outputs": []
    },
    {
      "cell_type": "code",
      "metadata": {
        "id": "dz2NYpAuNcAZ",
        "outputId": "85d27440-5c1b-4ec1-bc7d-36d76d80a88a",
        "colab": {
          "base_uri": "https://localhost:8080/"
        }
      },
      "source": [
        "print(\"Hello Capstone Project Course!\")"
      ],
      "execution_count": null,
      "outputs": [
        {
          "output_type": "stream",
          "text": [
            "Hello Capstone Project Course!\n"
          ],
          "name": "stdout"
        }
      ]
    }
  ]
}